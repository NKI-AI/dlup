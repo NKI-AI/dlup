{
 "cells": [
  {
   "cell_type": "code",
   "execution_count": 42,
   "id": "158f0905",
   "metadata": {},
   "outputs": [],
   "source": [
    "from shapely.geometry import Polygon as ShapelyPolygon\n",
    "from dlup.annotations import Polygon, AnnotationClass, AnnotationType\n",
    "import numpy as np\n",
    "def _create_complex_polygons():\n",
    "    spolygon = ShapelyPolygon([(1, 1), (1, 7), (7, 7), (7, 1)], holes=[[(2, 2), (2, 4), (4, 4), (4, 1)]])\n",
    "    polygon0 = Polygon(spolygon, AnnotationClass(label=\"polygon1\", annotation_type=AnnotationType.POLYGON))\n",
    "    spolygon = ShapelyPolygon([(4, 4), (4, 9), (9, 9), (9, 4)], holes=[[(5, 5), (5, 7), (7, 7), (7, 5)], [(7, 7), (5, 9), (5, 9), (9, 9)]])\n",
    "\n",
    "    polygon1 = Polygon(spolygon, a_cls=AnnotationClass(label=\"polygon2\", annotation_type=AnnotationType.POLYGON))\n",
    "    roi = Polygon(\n",
    "        [(3, 3), (3, 6), (6, 6), (6, 3)], AnnotationClass(label=\"roi\", annotation_type=AnnotationType.POLYGON)\n",
    "    )\n",
    "\n",
    "    target = np.asarray(\n",
    "        [\n",
    "            [0, 0, 0, 0, 0, 0, 0, 0, 0, 0],\n",
    "            [0, 2, 2, 2, 0, 2, 2, 2, 0, 0],\n",
    "            [0, 2, 0, 0, 0, 2, 2, 2, 0, 0],\n",
    "            [0, 2, 0, 0, 0, 2, 2, 2, 0, 0],\n",
    "            [0, 2, 0, 0, 3, 3, 3, 3, 3, 3],\n",
    "            [0, 2, 2, 2, 3, 3, 3, 3, 3, 3],\n",
    "            [0, 2, 2, 2, 3, 3, 2, 2, 0, 3],\n",
    "            [0, 2, 2, 2, 3, 3, 2, 2, 0, 3],\n",
    "            [0, 0, 0, 0, 3, 3, 0, 0, 0, 3],\n",
    "            [0, 0, 0, 0, 3, 3, 3, 3, 3, 3],\n",
    "        ]\n",
    "    )\n",
    "    return [polygon0, polygon1, roi], target\n"
   ]
  },
  {
   "cell_type": "code",
   "execution_count": 14,
   "id": "922d3d86",
   "metadata": {},
   "outputs": [],
   "source": [
    "[p0, p1, r], t = _create_complex_polygons()"
   ]
  },
  {
   "cell_type": "code",
   "execution_count": 43,
   "id": "c36cb4fc",
   "metadata": {},
   "outputs": [
    {
     "ename": "NameError",
     "evalue": "name 'r0' is not defined",
     "output_type": "error",
     "traceback": [
      "\u001b[0;31m---------------------------------------------------------------------------\u001b[0m",
      "\u001b[0;31mNameError\u001b[0m                                 Traceback (most recent call last)",
      "Input \u001b[0;32mIn [43]\u001b[0m, in \u001b[0;36m<cell line: 1>\u001b[0;34m()\u001b[0m\n\u001b[0;32m----> 1\u001b[0m \u001b[43mr0\u001b[49m\n",
      "\u001b[0;31mNameError\u001b[0m: name 'r0' is not defined"
     ]
    }
   ],
   "source": [
    "r0"
   ]
  },
  {
   "cell_type": "code",
   "execution_count": 41,
   "id": "177a44d1",
   "metadata": {},
   "outputs": [
    {
     "data": {
      "image/svg+xml": [
       "<svg xmlns=\"http://www.w3.org/2000/svg\" xmlns:xlink=\"http://www.w3.org/1999/xlink\" width=\"100.0\" height=\"100.0\" viewBox=\"3.8 3.8 5.3999999999999995 5.3999999999999995\" preserveAspectRatio=\"xMinYMin meet\"><g transform=\"matrix(1,0,0,-1,0,13.0)\"><path fill-rule=\"evenodd\" fill=\"#ff3333\" stroke=\"#555555\" stroke-width=\"0.10799999999999998\" opacity=\"0.6\" d=\"M 4.0,4.0 L 4.0,9.0 L 9.0,9.0 L 9.0,4.0 L 4.0,4.0 z M 5.0,5.0 L 5.0,7.0 L 7.0,7.0 L 7.0,5.0 L 5.0,5.0 z M 7.0,7.0 L 5.0,9.0 L 5.0,9.0 L 9.0,9.0 L 7.0,7.0 z\" /></g></svg>"
      ],
      "text/plain": [
       "<POLYGON ((4 4, 4 9, 9 9, 9 4, 4 4), (5 5, 5 7, 7 7, 7 5, 5 5), (7 7, 5 9, 5...>"
      ]
     },
     "execution_count": 41,
     "metadata": {},
     "output_type": "execute_result"
    }
   ],
   "source": [
    "ShapelyPolygon([(4, 4), (4, 9), (9, 9), (9, 4)], holes=[[(5, 5), (5, 7), (7, 7), (7, 5)], [(7, 7), (5, 9), (5, 9), (9, 9)]])\n"
   ]
  },
  {
   "cell_type": "code",
   "execution_count": null,
   "id": "5149539c",
   "metadata": {},
   "outputs": [],
   "source": []
  }
 ],
 "metadata": {
  "kernelspec": {
   "display_name": "Python 3 (ipykernel)",
   "language": "python",
   "name": "python3"
  },
  "language_info": {
   "codemirror_mode": {
    "name": "ipython",
    "version": 3
   },
   "file_extension": ".py",
   "mimetype": "text/x-python",
   "name": "python",
   "nbconvert_exporter": "python",
   "pygments_lexer": "ipython3",
   "version": "3.10.6"
  }
 },
 "nbformat": 4,
 "nbformat_minor": 5
}
